{
 "cells": [
  {
   "attachments": {},
   "cell_type": "markdown",
   "metadata": {},
   "source": [
    "# Simplest CNN for MNIST\n",
    "---"
   ]
  },
  {
   "cell_type": "code",
   "execution_count": 14,
   "metadata": {},
   "outputs": [],
   "source": [
    "from torch.utils.data import DataLoader, Subset\n",
    "from torchvision.datasets import MNIST\n",
    "from torchvision.transforms import ToTensor\n",
    "\n",
    "import torch\n",
    "import torch.nn as nn\n",
    "import torch.nn.functional as F\n",
    "\n",
    "import matplotlib.pyplot as plt"
   ]
  },
  {
   "attachments": {},
   "cell_type": "markdown",
   "metadata": {},
   "source": [
    "#### Load MNIST dataset"
   ]
  },
  {
   "cell_type": "code",
   "execution_count": 15,
   "metadata": {},
   "outputs": [],
   "source": [
    "train_data = MNIST(root='data', train=True, transform=ToTensor(), download=True)\n",
    "test_data = MNIST(root='data', train=False, transform=ToTensor(), download=True)"
   ]
  },
  {
   "attachments": {},
   "cell_type": "markdown",
   "metadata": {},
   "source": [
    "*downsample tarining set*"
   ]
  },
  {
   "cell_type": "code",
   "execution_count": 16,
   "metadata": {},
   "outputs": [],
   "source": [
    "is_downsampling = True"
   ]
  },
  {
   "cell_type": "code",
   "execution_count": 17,
   "metadata": {},
   "outputs": [],
   "source": [
    "N = 5000"
   ]
  },
  {
   "cell_type": "code",
   "execution_count": 18,
   "metadata": {},
   "outputs": [],
   "source": [
    "if is_downsampling:\n",
    "    # Create a subset of the training dataset with the first N examples\n",
    "    train_data = Subset(train_data, range(N))"
   ]
  },
  {
   "attachments": {},
   "cell_type": "markdown",
   "metadata": {},
   "source": [
    "#### Define the data loaders"
   ]
  },
  {
   "cell_type": "code",
   "execution_count": 19,
   "metadata": {},
   "outputs": [
    {
     "data": {
      "text/plain": [
       "\"\\nAt this stage, train_loader and test_loader contains batches of images to use.\\nIf we run '> images, labels = next(iter(train_loader))' we can get the firat batch of data \\nwhich will have shape = (200, 1, 28, 28)\\n\""
      ]
     },
     "execution_count": 19,
     "metadata": {},
     "output_type": "execute_result"
    }
   ],
   "source": [
    "train_loader = DataLoader(train_data, batch_size=200, shuffle=True)\n",
    "test_loader = DataLoader(test_data, batch_size=200, shuffle=False)\n",
    "\n",
    "'''\n",
    "At this stage, train_loader and test_loader contains batches of images to use.\n",
    "If we run '> images, labels = next(iter(train_loader))' we can get the firat batch of data \n",
    "which will have shape = (200, 1, 28, 28)\n",
    "'''"
   ]
  },
  {
   "cell_type": "code",
   "execution_count": 20,
   "metadata": {},
   "outputs": [],
   "source": [
    "# Define the device to use\n",
    "device = torch.device('cuda' if torch.cuda.is_available() else 'cpu')"
   ]
  },
  {
   "cell_type": "code",
   "execution_count": 21,
   "metadata": {},
   "outputs": [],
   "source": [
    "# Define the model and move it to the device\n",
    "import CNN_class\n",
    "\n",
    "cnn = CNN_class.CNN().to(device)"
   ]
  },
  {
   "attachments": {},
   "cell_type": "markdown",
   "metadata": {},
   "source": [
    "### CNN architecture schema"
   ]
  },
  {
   "cell_type": "code",
   "execution_count": 22,
   "metadata": {},
   "outputs": [
    {
     "name": "stdout",
     "output_type": "stream",
     "text": [
      "==========================================================================================\n",
      "Layer (type:depth-idx)                   Output Shape              Param #\n",
      "==========================================================================================\n",
      "├─Conv2d: 1-1                            [-1, 32, 26, 26]          320\n",
      "├─Conv2d: 1-2                            [-1, 64, 24, 24]          18,496\n",
      "├─Linear: 1-3                            [-1, 128]                 4,718,720\n",
      "├─Linear: 1-4                            [-1, 10]                  1,290\n",
      "==========================================================================================\n",
      "Total params: 4,738,826\n",
      "Trainable params: 4,738,826\n",
      "Non-trainable params: 0\n",
      "Total mult-adds (M): 15.53\n",
      "==========================================================================================\n",
      "Input size (MB): 0.00\n",
      "Forward/backward pass size (MB): 0.45\n",
      "Params size (MB): 18.08\n",
      "Estimated Total Size (MB): 18.53\n",
      "==========================================================================================\n"
     ]
    },
    {
     "data": {
      "text/plain": [
       "==========================================================================================\n",
       "Layer (type:depth-idx)                   Output Shape              Param #\n",
       "==========================================================================================\n",
       "├─Conv2d: 1-1                            [-1, 32, 26, 26]          320\n",
       "├─Conv2d: 1-2                            [-1, 64, 24, 24]          18,496\n",
       "├─Linear: 1-3                            [-1, 128]                 4,718,720\n",
       "├─Linear: 1-4                            [-1, 10]                  1,290\n",
       "==========================================================================================\n",
       "Total params: 4,738,826\n",
       "Trainable params: 4,738,826\n",
       "Non-trainable params: 0\n",
       "Total mult-adds (M): 15.53\n",
       "==========================================================================================\n",
       "Input size (MB): 0.00\n",
       "Forward/backward pass size (MB): 0.45\n",
       "Params size (MB): 18.08\n",
       "Estimated Total Size (MB): 18.53\n",
       "=========================================================================================="
      ]
     },
     "execution_count": 22,
     "metadata": {},
     "output_type": "execute_result"
    }
   ],
   "source": [
    "from torchsummary import summary\n",
    "\n",
    "summary(cnn, (1, 28, 28))"
   ]
  },
  {
   "cell_type": "code",
   "execution_count": 23,
   "metadata": {},
   "outputs": [],
   "source": [
    "# Define the loss function and optimizer\n",
    "criterion = nn.CrossEntropyLoss()\n",
    "optimizer = torch.optim.Adam(cnn.parameters())"
   ]
  },
  {
   "attachments": {},
   "cell_type": "markdown",
   "metadata": {},
   "source": [
    "### Training and Testing"
   ]
  },
  {
   "cell_type": "code",
   "execution_count": 24,
   "metadata": {},
   "outputs": [],
   "source": [
    "num_epochs = 10"
   ]
  },
  {
   "cell_type": "code",
   "execution_count": 25,
   "metadata": {},
   "outputs": [
    {
     "name": "stdout",
     "output_type": "stream",
     "text": [
      "Epoch 1/10, Train Loss: 1.0339, Train Accuracy: 0.6862, Test Loss: 0.4225, Test Accuracy: 0.8816\n",
      "Epoch 2/10, Train Loss: 0.3048, Train Accuracy: 0.9114, Test Loss: 0.2826, Test Accuracy: 0.9154\n",
      "Epoch 3/10, Train Loss: 0.1776, Train Accuracy: 0.9512, Test Loss: 0.1997, Test Accuracy: 0.9389\n",
      "Epoch 4/10, Train Loss: 0.1117, Train Accuracy: 0.9700, Test Loss: 0.1659, Test Accuracy: 0.9495\n",
      "Epoch 5/10, Train Loss: 0.0693, Train Accuracy: 0.9786, Test Loss: 0.1402, Test Accuracy: 0.9568\n",
      "Epoch 6/10, Train Loss: 0.0412, Train Accuracy: 0.9894, Test Loss: 0.1262, Test Accuracy: 0.9628\n",
      "Epoch 7/10, Train Loss: 0.0257, Train Accuracy: 0.9940, Test Loss: 0.1319, Test Accuracy: 0.9627\n",
      "Epoch 8/10, Train Loss: 0.0143, Train Accuracy: 0.9964, Test Loss: 0.1264, Test Accuracy: 0.9656\n",
      "Epoch 9/10, Train Loss: 0.0114, Train Accuracy: 0.9982, Test Loss: 0.1214, Test Accuracy: 0.9665\n",
      "Epoch 10/10, Train Loss: 0.0053, Train Accuracy: 0.9996, Test Loss: 0.1406, Test Accuracy: 0.9643\n"
     ]
    }
   ],
   "source": [
    "# Define empty lists to store the loss and accuracy values\n",
    "train_loss_list = []\n",
    "train_acc_list = []\n",
    "test_loss_list = []\n",
    "test_acc_list = []\n",
    "\n",
    "for epoch in range(num_epochs):\n",
    "\n",
    "    train_loss = 0.0\n",
    "    train_correct = 0\n",
    "\n",
    "    cnn.train()\n",
    "\n",
    "    idx_b = 0\n",
    "\n",
    "    for inputs, labels in train_loader:\n",
    "\n",
    "        inputs, labels = inputs.to(device), labels.to(device)\n",
    "        optimizer.zero_grad()\n",
    "\n",
    "        # forward inputs\n",
    "        outputs = cnn.forward(inputs)\n",
    "\n",
    "        # evaluate loss\n",
    "        loss = criterion(outputs, labels)\n",
    "\n",
    "        # backproagation\n",
    "        loss.backward()\n",
    "        optimizer.step()\n",
    "\n",
    "        train_loss += loss.item() * inputs.size(0)\n",
    "        _, predicted = torch.max(outputs.data, 1)\n",
    "        train_correct += (predicted == labels).sum().item()\n",
    "\n",
    "        # print(f'Epoch {epoch+1}, Batch {idx_b+1} processed')\n",
    "\n",
    "        idx_b += 1\n",
    "\n",
    "    train_loss = train_loss / len(train_loader.dataset)\n",
    "    train_accuracy = train_correct / len(train_loader.dataset)\n",
    "\n",
    "    train_loss_list.append(train_loss)\n",
    "    train_acc_list.append(train_accuracy)\n",
    "\n",
    "\n",
    "    # TESTING\n",
    "\n",
    "    test_loss = 0.0\n",
    "    test_correct = 0\n",
    "\n",
    "    cnn.eval()\n",
    "\n",
    "    with torch.no_grad():\n",
    "        for inputs, labels in test_loader:\n",
    "\n",
    "            inputs, labels = inputs.to(device), labels.to(device)\n",
    "\n",
    "            # forward inputs\n",
    "            outputs = cnn.forward(inputs)\n",
    "\n",
    "            loss = criterion(outputs, labels)\n",
    "            test_loss += loss.item() * inputs.size(0)\n",
    "            _, predicted = torch.max(outputs.data, 1)\n",
    "            test_correct += (predicted == labels).sum().item()\n",
    "\n",
    "    test_loss = test_loss / len(test_loader.dataset)\n",
    "    test_accuracy = test_correct / len(test_loader.dataset)\n",
    "\n",
    "    test_loss_list.append(test_loss)\n",
    "    test_acc_list.append(test_accuracy)\n",
    "\n",
    "    # Print the results for this epoch\n",
    "    print(f\"Epoch {epoch+1}/{num_epochs}, Train Loss: {train_loss:.4f}, Train Accuracy: {train_accuracy:.4f}, Test Loss: {test_loss:.4f}, Test Accuracy: {test_accuracy:.4f}\")"
   ]
  },
  {
   "attachments": {},
   "cell_type": "markdown",
   "metadata": {},
   "source": [
    "### PLots"
   ]
  },
  {
   "cell_type": "code",
   "execution_count": 27,
   "metadata": {},
   "outputs": [
    {
     "data": {
      "image/png": "[encoded data removed]",
      "text/plain": [
       "<Figure size 1800x600 with 2 Axes>"
      ]
     },
     "metadata": {
      "needs_background": "light"
     },
     "output_type": "display_data"
    }
   ],
   "source": [
    "plt.rcParams['figure.dpi'] = 120\n",
    "# Create subplots\n",
    "fig, (ax1, ax2) = plt.subplots(1, 2, figsize=(15,5))\n",
    "\n",
    "# Plot training loss and accuracy\n",
    "ax1.plot(train_loss_list, label='Training Loss', marker='o')\n",
    "ax1.plot(train_acc_list, label='Training Accuracy', marker='o')\n",
    "ax1.set_xlabel('Epochs')\n",
    "ax1.legend()\n",
    "\n",
    "# Plot validation loss and accuracy\n",
    "ax2.plot(test_loss_list, label='Validation Loss', marker='o')\n",
    "ax2.plot(test_acc_list, label='Validation Accuracy', marker='o')\n",
    "ax2.set_xlabel('Epochs')\n",
    "ax2.legend()\n",
    "\n",
    "# Show the plot\n",
    "plt.show()\n"
   ]
  }
 ],
 "metadata": {
  "kernelspec": {
   "display_name": "Python 3",
   "language": "python",
   "name": "python3"
  },
  "language_info": {
   "codemirror_mode": {
    "name": "ipython",
    "version": 3
   },
   "file_extension": ".py",
   "mimetype": "text/x-python",
   "name": "python",
   "nbconvert_exporter": "python",
   "pygments_lexer": "ipython3",
   "version": "3.10.0"
  },
  "orig_nbformat": 4
 },
 "nbformat": 4,
 "nbformat_minor": 2
}
