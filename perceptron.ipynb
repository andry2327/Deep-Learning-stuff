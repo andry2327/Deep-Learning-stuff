{
 "cells": [
  {
   "attachments": {},
   "cell_type": "markdown",
   "metadata": {},
   "source": [
    "# Perceptron \n",
    "---"
   ]
  },
  {
   "cell_type": "code",
   "execution_count": 44,
   "metadata": {},
   "outputs": [],
   "source": [
    "import numpy as np\n",
    "import matplotlib.pyplot as plt\n",
    "from IPython.display import clear_output\n",
    "from time import sleep\n",
    "\n",
    "plt.rcParams['figure.dpi'] = 150"
   ]
  },
  {
   "cell_type": "code",
   "execution_count": 45,
   "metadata": {},
   "outputs": [],
   "source": [
    "def print_w_b(w, b):\n",
    "    print(f'    w = {w}')\n",
    "    print(f'    b = {b}')\n",
    "    \n",
    "def print_plot(X, y, w, b, w_, b_, conf=False):\n",
    "\n",
    "    plt.grid(which='major', linewidth=0.25)\n",
    "\n",
    "    # print (X, y)\n",
    "    plt.scatter(X[:, 0][y == -1], X[:, 1][y == -1], c='r', s=4)\n",
    "    plt.scatter(X[:, 0][y == 1], X[:, 1][y == 1], c='b', s=4)\n",
    "\n",
    "    # print separation boundary\n",
    "    x1_line = np.linspace(X[:, 0].min(), X[:, 0].max(), 100)\n",
    "    x2_line = -(x1_line * w[0] + b) / w[1]\n",
    "    xt_line = -(x1_line * w_[0] + b_) / w_[1]\n",
    "    if conf:\n",
    "        plt.plot(x1_line, x2_line, color='green', linewidth=1)\n",
    "    else:\n",
    "        plt.plot(x1_line, xt_line, color='green', linewidth=0.4, linestyle='--')\n",
    "        plt.plot(x1_line, x2_line, color='black', linewidth=1)\n",
    "        \n",
    "    plt.xlim([X[:, 0].min()-0.5, X[:, 0].max()+0.5])\n",
    "    plt.ylim([X[:, 1].min()-0.5, X[:, 1].max()+0.5])\n",
    "\n",
    "    plt.show()"
   ]
  },
  {
   "attachments": {},
   "cell_type": "markdown",
   "metadata": {},
   "source": [
    "Binary classifier perceptron"
   ]
  },
  {
   "cell_type": "code",
   "execution_count": 46,
   "metadata": {},
   "outputs": [],
   "source": [
    "class Perceptron:\n",
    "\n",
    "    def __init__(self, learning_rate=0.1, n_iter=None):\n",
    "        self.lr = learning_rate\n",
    "        self.n_iter = n_iter\n",
    "        self.w = None\n",
    "        self.b = 0\n",
    "\n",
    "    def out(self, X: np.ndarray):\n",
    "        return np.dot(X, self.w) + self.b\n",
    "\n",
    "    def predict(self, X: np.ndarray):\n",
    "        pred = self.out(X)\n",
    "        # classify prediction = {-1, +1}\n",
    "        return np.where(pred >= 0, 1, -1)\n",
    "\n",
    "    def fit(self, X: np.ndarray, y: np.ndarray, w_, b_):\n",
    "        \n",
    "        # Initialize w = 0 and b = 0\n",
    "        self.w = np.random.random(X.shape[1])\n",
    "        self.b = np.random.random()\n",
    "    \n",
    "        loss = []\n",
    "        n_errors = -1\n",
    "        \n",
    "        # try to fit Perceptron in n_iter\n",
    "        for epoch in range(self.n_iter):\n",
    "\n",
    "            clear_output(wait=True)\n",
    "            print(f'\\nEpoch {epoch+1}:\\n')\n",
    "            print_w_b(self.w, self.b)\n",
    "            if epoch > 0:\n",
    "                print(f'\\n    Loss (MSE) = {loss[-1]} (n_errors = {n_errors})\\n')\n",
    "            print_plot(X, y, self.w, self.b, w_, b_)\n",
    "\n",
    "            if n_errors == 0 and epoch > 1:  # all points classified correctly\n",
    "                print(f'All points classified correctly after {epoch+1} iterations')\n",
    "                break\n",
    "\n",
    "            n_errors = 0\n",
    "            err = 0\n",
    "\n",
    "            sleep(0.5)\n",
    "\n",
    "            for xi, yi in zip(X, y):\n",
    "\n",
    "                # yi_pred = sigma( x1*w1 + ... + xm*wm + b ) = {-1,+1}\n",
    "                yi_pred = self.predict(xi)\n",
    "\n",
    "                # if wrong prediction -> update weigths and bias\n",
    "                if yi_pred != yi: \n",
    "                    n_errors += 1\n",
    "\n",
    "                    # update w and b\n",
    "                    '''\n",
    "                    w(k+1) <- w(k) + lr * (y_true - out_pred) * x\n",
    "                    b(k+1) <- b(k) + lr * (y_true - out_pred)\n",
    "                    '''\n",
    "                    self.w += self.lr * (yi - self.out(xi)) * xi\n",
    "                    self.b += self.lr * (yi - self.out(xi))\n",
    "\n",
    "                    err += (yi - self.out(xi))**2\n",
    "            \n",
    "            loss.append(err/X.shape[0])\n",
    "        return loss\n"
   ]
  },
  {
   "attachments": {},
   "cell_type": "markdown",
   "metadata": {},
   "source": [
    "---"
   ]
  },
  {
   "attachments": {},
   "cell_type": "markdown",
   "metadata": {},
   "source": [
    "#### 2D Dataset creation"
   ]
  },
  {
   "attachments": {},
   "cell_type": "markdown",
   "metadata": {},
   "source": [
    "*Set use_Iris = True to use Iris dataset*"
   ]
  },
  {
   "cell_type": "code",
   "execution_count": 47,
   "metadata": {},
   "outputs": [],
   "source": [
    "use_Iris = False"
   ]
  },
  {
   "cell_type": "code",
   "execution_count": 48,
   "metadata": {},
   "outputs": [],
   "source": [
    "n_samples = 250\n",
    "X = 20*np.random.rand(n_samples, 2) - 10"
   ]
  },
  {
   "attachments": {},
   "cell_type": "markdown",
   "metadata": {},
   "source": [
    "_Set w and b to learn_"
   ]
  },
  {
   "cell_type": "code",
   "execution_count": 49,
   "metadata": {},
   "outputs": [
    {
     "data": {
      "text/plain": [
       "(-0.6413147371910259, 0.3637836987771583, 0.9861560054018612)"
      ]
     },
     "execution_count": 49,
     "metadata": {},
     "output_type": "execute_result"
    }
   ],
   "source": [
    "w1_= 2*np.random.random()-1\n",
    "w2_ = 2*np.random.random()-1\n",
    "b_ = 2*np.random.random()-1\n",
    "w1_, w2_, b_"
   ]
  },
  {
   "cell_type": "code",
   "execution_count": 50,
   "metadata": {},
   "outputs": [],
   "source": [
    "w_ = np.array([w1_, w2_])\n",
    "\n",
    "# Generete y\n",
    "y = np.empty(X.shape[0])\n",
    "\n",
    "for i, xi in enumerate(X):\n",
    "    if np.dot(xi, w_) + b_ >= 0:\n",
    "        y[i] = 1\n",
    "    else:\n",
    "        y[i] = -1"
   ]
  },
  {
   "cell_type": "code",
   "execution_count": 51,
   "metadata": {},
   "outputs": [],
   "source": [
    "from sklearn.datasets import load_iris\n",
    "import pandas as pd\n",
    "\n",
    "if use_Iris:\n",
    "    dataset = load_iris()\n",
    "    df = pd.DataFrame(dataset.data, columns=dataset.feature_names)\n",
    "    df['target'] = pd.Series(dataset.target)\n",
    "    # Iris flowers with target '2' removed from dataset\n",
    "    df = df[df['target'] != 2]\n",
    "    # Selected only first '2' features and target y\n",
    "    y = pd.Series(df['target']).values\n",
    "    y[y==0] = -1\n",
    "    df = df.loc[:, ['sepal length (cm)', 'sepal width (cm)']]\n",
    "    X = df.values"
   ]
  },
  {
   "attachments": {},
   "cell_type": "markdown",
   "metadata": {},
   "source": [
    "### Percpetron Training"
   ]
  },
  {
   "cell_type": "code",
   "execution_count": 52,
   "metadata": {},
   "outputs": [],
   "source": [
    "lr = 0.001\n",
    "n_iter = 200"
   ]
  },
  {
   "cell_type": "code",
   "execution_count": 53,
   "metadata": {},
   "outputs": [
    {
     "name": "stdout",
     "output_type": "stream",
     "text": [
      "\n",
      "Epoch 18:\n",
      "\n",
      "    w = [-0.14204607  0.07913673]\n",
      "    b = 0.21456946776204155\n",
      "\n",
      "    Loss (MSE) = 0.0 (n_errors = 0)\n",
      "\n"
     ]
    },
    {
     "data": {
      "image/png": "[encoded data removed]",
      "text/plain": [
       "<Figure size 900x600 with 1 Axes>"
      ]
     },
     "metadata": {
      "needs_background": "light"
     },
     "output_type": "display_data"
    },
    {
     "name": "stdout",
     "output_type": "stream",
     "text": [
      "All points classified correctly after 18 iterations\n"
     ]
    }
   ],
   "source": [
    "P = Perceptron(learning_rate=lr, n_iter=n_iter)\n",
    "\n",
    "print(f'\\nSTARTING CONFIGURATION')\n",
    "print_plot(X, y, w_, b_, w_, b_, conf=True)\n",
    "print_w_b(w_, b_)\n",
    "\n",
    "sleep(5)\n",
    "\n",
    "# Fit \n",
    "loss = P.fit(X, y, w_, b_)"
   ]
  },
  {
   "attachments": {},
   "cell_type": "markdown",
   "metadata": {},
   "source": [
    "### Loss "
   ]
  },
  {
   "cell_type": "code",
   "execution_count": 54,
   "metadata": {},
   "outputs": [
    {
     "data": {
      "image/png": "[encoded data removed]",
      "text/plain": [
       "<Figure size 900x600 with 1 Axes>"
      ]
     },
     "metadata": {
      "needs_background": "light"
     },
     "output_type": "display_data"
    }
   ],
   "source": [
    "plt.plot([x+1 for x in range(len(loss))], loss)\n",
    "plt.show()"
   ]
  }
 ],
 "metadata": {
  "kernelspec": {
   "display_name": "Python 3",
   "language": "python",
   "name": "python3"
  },
  "language_info": {
   "codemirror_mode": {
    "name": "ipython",
    "version": 3
   },
   "file_extension": ".py",
   "mimetype": "text/x-python",
   "name": "python",
   "nbconvert_exporter": "python",
   "pygments_lexer": "ipython3",
   "version": "3.10.0"
  },
  "orig_nbformat": 4
 },
 "nbformat": 4,
 "nbformat_minor": 2
}
