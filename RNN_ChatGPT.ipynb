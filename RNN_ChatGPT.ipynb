{
 "cells": [
  {
   "attachments": {},
   "cell_type": "markdown",
   "metadata": {},
   "source": [
    "# RNN to generate text using Shakespeare's Sonnets as input\n",
    "---"
   ]
  },
  {
   "cell_type": "code",
   "execution_count": 9,
   "metadata": {},
   "outputs": [],
   "source": [
    "import torch\n",
    "import torch.nn as nn\n",
    "import numpy as np"
   ]
  },
  {
   "attachments": {},
   "cell_type": "markdown",
   "metadata": {},
   "source": [
    "#### RNN class"
   ]
  },
  {
   "cell_type": "code",
   "execution_count": 10,
   "metadata": {},
   "outputs": [],
   "source": [
    "# Define the RNN architecture\n",
    "\n",
    "class RNN(nn.Module):\n",
    "    def __init__(self, input_size, hidden_size, output_size):\n",
    "        super(RNN, self).__init__()\n",
    "        self.hidden_size = hidden_size\n",
    "        self.i2h = nn.Linear(input_size + hidden_size, hidden_size)\n",
    "        self.i2o = nn.Linear(input_size + hidden_size, output_size)\n",
    "        self.softmax = nn.LogSoftmax(dim=1)\n",
    "\n",
    "    def forward(self, input, hidden):\n",
    "        combined = torch.cat((input, hidden), 1)\n",
    "        hidden = self.i2h(combined)\n",
    "        output = self.i2o(combined)\n",
    "        output = self.softmax(output)\n",
    "        return output, hidden\n",
    "\n",
    "    def initHidden(self):\n",
    "        return torch.zeros(1, self.hidden_size)"
   ]
  },
  {
   "cell_type": "markdown",
   "metadata": {},
   "source": [
    "Load data"
   ]
  },
  {
   "cell_type": "code",
   "execution_count": 11,
   "metadata": {},
   "outputs": [
    {
     "name": "stdout",
     "output_type": "stream",
     "text": [
      "--2023-04-26 12:19:22--  https://www.gutenberg.org/cache/epub/1041/pg1041.txt\n",
      "Risoluzione di www.gutenberg.org (www.gutenberg.org)... 152.19.134.47\n",
      "Connessione a www.gutenberg.org (www.gutenberg.org)|152.19.134.47|:443... connesso.\n",
      "Richiesta HTTP inviata, in attesa di risposta... 200 OK\n",
      "Lunghezza: 119693 (117K) [text/plain]\n",
      "Salvataggio in: «pg1041.txt.1»\n",
      "\n",
      "pg1041.txt.1        100%[===================>] 116,89K   298KB/s    in 0,4s    \n",
      "\n",
      "2023-04-26 12:19:24 (298 KB/s) - «pg1041.txt.1» salvato [119693/119693]\n",
      "\n"
     ]
    }
   ],
   "source": [
    "!wget 'https://www.gutenberg.org/cache/epub/1041/pg1041.txt'"
   ]
  },
  {
   "cell_type": "code",
   "execution_count": 12,
   "metadata": {},
   "outputs": [],
   "source": [
    "# pg1041.txt: Shakespeare' sonnets\n",
    "with open('pg1041.txt', 'r') as f:\n",
    "    text = f.read()"
   ]
  },
  {
   "cell_type": "code",
   "execution_count": 13,
   "metadata": {},
   "outputs": [],
   "source": [
    "# Create a dictionary mapping each character to a unique index\n",
    "chars = list(set(text))\n",
    "char_to_idx = {ch:i for i, ch in enumerate(chars)}"
   ]
  },
  {
   "cell_type": "code",
   "execution_count": 25,
   "metadata": {},
   "outputs": [],
   "source": [
    "# Define some hyperparameters\n",
    "input_size = len(chars)\n",
    "hidden_size = 128\n",
    "output_size = len(chars)\n",
    "learning_rate = 0.001"
   ]
  },
  {
   "cell_type": "code",
   "execution_count": 26,
   "metadata": {},
   "outputs": [],
   "source": [
    "# Instantiate the RNN model\n",
    "rnn = RNN(input_size, hidden_size, output_size)"
   ]
  },
  {
   "cell_type": "code",
   "execution_count": 27,
   "metadata": {},
   "outputs": [],
   "source": [
    "# Define the loss function and optimizer\n",
    "criterion = nn.NLLLoss()\n",
    "optimizer = torch.optim.Adam(rnn.parameters(), lr=learning_rate)"
   ]
  },
  {
   "cell_type": "code",
   "execution_count": 43,
   "metadata": {},
   "outputs": [],
   "source": [
    "# Train the RNN model\n",
    "\n",
    "def train(input_tensor, target_tensor):\n",
    "    hidden = rnn.initHidden()\n",
    "\n",
    "    rnn.zero_grad()\n",
    "\n",
    "    loss = 0\n",
    "\n",
    "    for i in range(input_tensor.size()[0]):\n",
    "        output, hidden = rnn(input_tensor[i], hidden)\n",
    "        loss += criterion(output, target_tensor[i])\n",
    "\n",
    "    loss.backward()\n",
    "\n",
    "    optimizer.step()\n",
    "\n",
    "    return output, loss.item() / input_tensor.size()[0]\n",
    "\n",
    "def char_tensor(text):\n",
    "    tensor = torch.zeros(len(text), dtype=torch.long)\n",
    "    for i, char in enumerate(text):\n",
    "        tensor[i] = char_to_idx[char]\n",
    "    return tensor"
   ]
  },
  {
   "cell_type": "code",
   "execution_count": 44,
   "metadata": {},
   "outputs": [
    {
     "ename": "IndexError",
     "evalue": "Dimension out of range (expected to be in range of [-1, 0], but got 1)",
     "output_type": "error",
     "traceback": [
      "\u001b[0;31m---------------------------------------------------------------------------\u001b[0m",
      "\u001b[0;31mIndexError\u001b[0m                                Traceback (most recent call last)",
      "\u001b[1;32m/Users/andreapellegrino/Library/Mobile Documents/com~apple~CloudDocs/Documents/iCloud Drive/Code/Deep Learning stuff/RNN_ChatGPT.ipynb Cella 13\u001b[0m in \u001b[0;36m<cell line: 6>\u001b[0;34m()\u001b[0m\n\u001b[1;32m     <a href='vscode-notebook-cell:/Users/andreapellegrino/Library/Mobile%20Documents/com~apple~CloudDocs/Documents/iCloud%20Drive/Code/Deep%20Learning%20stuff/RNN_ChatGPT.ipynb#X22sZmlsZQ%3D%3D?line=12'>13</a>\u001b[0m input_tensor \u001b[39m=\u001b[39m char_tensor(input_seq)\n\u001b[1;32m     <a href='vscode-notebook-cell:/Users/andreapellegrino/Library/Mobile%20Documents/com~apple~CloudDocs/Documents/iCloud%20Drive/Code/Deep%20Learning%20stuff/RNN_ChatGPT.ipynb#X22sZmlsZQ%3D%3D?line=13'>14</a>\u001b[0m target_tensor \u001b[39m=\u001b[39m char_tensor(target_seq)\n\u001b[0;32m---> <a href='vscode-notebook-cell:/Users/andreapellegrino/Library/Mobile%20Documents/com~apple~CloudDocs/Documents/iCloud%20Drive/Code/Deep%20Learning%20stuff/RNN_ChatGPT.ipynb#X22sZmlsZQ%3D%3D?line=15'>16</a>\u001b[0m output, loss \u001b[39m=\u001b[39m train(input_tensor, target_tensor)\n\u001b[1;32m     <a href='vscode-notebook-cell:/Users/andreapellegrino/Library/Mobile%20Documents/com~apple~CloudDocs/Documents/iCloud%20Drive/Code/Deep%20Learning%20stuff/RNN_ChatGPT.ipynb#X22sZmlsZQ%3D%3D?line=17'>18</a>\u001b[0m \u001b[39mif\u001b[39;00m epoch \u001b[39m%\u001b[39m \u001b[39m100\u001b[39m \u001b[39m==\u001b[39m \u001b[39m0\u001b[39m:\n\u001b[1;32m     <a href='vscode-notebook-cell:/Users/andreapellegrino/Library/Mobile%20Documents/com~apple~CloudDocs/Documents/iCloud%20Drive/Code/Deep%20Learning%20stuff/RNN_ChatGPT.ipynb#X22sZmlsZQ%3D%3D?line=18'>19</a>\u001b[0m     \u001b[39mprint\u001b[39m(\u001b[39m'\u001b[39m\u001b[39mEpoch [\u001b[39m\u001b[39m{}\u001b[39;00m\u001b[39m/\u001b[39m\u001b[39m{}\u001b[39;00m\u001b[39m], Loss: \u001b[39m\u001b[39m{:.4f}\u001b[39;00m\u001b[39m'\u001b[39m\u001b[39m.\u001b[39mformat(epoch, n_epochs, loss))\n",
      "\u001b[1;32m/Users/andreapellegrino/Library/Mobile Documents/com~apple~CloudDocs/Documents/iCloud Drive/Code/Deep Learning stuff/RNN_ChatGPT.ipynb Cella 13\u001b[0m in \u001b[0;36mtrain\u001b[0;34m(input_tensor, target_tensor)\u001b[0m\n\u001b[1;32m      <a href='vscode-notebook-cell:/Users/andreapellegrino/Library/Mobile%20Documents/com~apple~CloudDocs/Documents/iCloud%20Drive/Code/Deep%20Learning%20stuff/RNN_ChatGPT.ipynb#X22sZmlsZQ%3D%3D?line=7'>8</a>\u001b[0m loss \u001b[39m=\u001b[39m \u001b[39m0\u001b[39m\n\u001b[1;32m     <a href='vscode-notebook-cell:/Users/andreapellegrino/Library/Mobile%20Documents/com~apple~CloudDocs/Documents/iCloud%20Drive/Code/Deep%20Learning%20stuff/RNN_ChatGPT.ipynb#X22sZmlsZQ%3D%3D?line=9'>10</a>\u001b[0m \u001b[39mfor\u001b[39;00m i \u001b[39min\u001b[39;00m \u001b[39mrange\u001b[39m(input_tensor\u001b[39m.\u001b[39msize()[\u001b[39m0\u001b[39m]):\n\u001b[0;32m---> <a href='vscode-notebook-cell:/Users/andreapellegrino/Library/Mobile%20Documents/com~apple~CloudDocs/Documents/iCloud%20Drive/Code/Deep%20Learning%20stuff/RNN_ChatGPT.ipynb#X22sZmlsZQ%3D%3D?line=10'>11</a>\u001b[0m     output, hidden \u001b[39m=\u001b[39m rnn(input_tensor, hidden)\n\u001b[1;32m     <a href='vscode-notebook-cell:/Users/andreapellegrino/Library/Mobile%20Documents/com~apple~CloudDocs/Documents/iCloud%20Drive/Code/Deep%20Learning%20stuff/RNN_ChatGPT.ipynb#X22sZmlsZQ%3D%3D?line=11'>12</a>\u001b[0m     loss \u001b[39m+\u001b[39m\u001b[39m=\u001b[39m criterion(output, target_tensor[i])\n\u001b[1;32m     <a href='vscode-notebook-cell:/Users/andreapellegrino/Library/Mobile%20Documents/com~apple~CloudDocs/Documents/iCloud%20Drive/Code/Deep%20Learning%20stuff/RNN_ChatGPT.ipynb#X22sZmlsZQ%3D%3D?line=13'>14</a>\u001b[0m loss\u001b[39m.\u001b[39mbackward()\n",
      "File \u001b[0;32m/Library/Frameworks/Python.framework/Versions/3.10/lib/python3.10/site-packages/torch/nn/modules/module.py:1501\u001b[0m, in \u001b[0;36mModule._call_impl\u001b[0;34m(self, *args, **kwargs)\u001b[0m\n\u001b[1;32m   1496\u001b[0m \u001b[39m# If we don't have any hooks, we want to skip the rest of the logic in\u001b[39;00m\n\u001b[1;32m   1497\u001b[0m \u001b[39m# this function, and just call forward.\u001b[39;00m\n\u001b[1;32m   1498\u001b[0m \u001b[39mif\u001b[39;00m \u001b[39mnot\u001b[39;00m (\u001b[39mself\u001b[39m\u001b[39m.\u001b[39m_backward_hooks \u001b[39mor\u001b[39;00m \u001b[39mself\u001b[39m\u001b[39m.\u001b[39m_backward_pre_hooks \u001b[39mor\u001b[39;00m \u001b[39mself\u001b[39m\u001b[39m.\u001b[39m_forward_hooks \u001b[39mor\u001b[39;00m \u001b[39mself\u001b[39m\u001b[39m.\u001b[39m_forward_pre_hooks\n\u001b[1;32m   1499\u001b[0m         \u001b[39mor\u001b[39;00m _global_backward_pre_hooks \u001b[39mor\u001b[39;00m _global_backward_hooks\n\u001b[1;32m   1500\u001b[0m         \u001b[39mor\u001b[39;00m _global_forward_hooks \u001b[39mor\u001b[39;00m _global_forward_pre_hooks):\n\u001b[0;32m-> 1501\u001b[0m     \u001b[39mreturn\u001b[39;00m forward_call(\u001b[39m*\u001b[39;49margs, \u001b[39m*\u001b[39;49m\u001b[39m*\u001b[39;49mkwargs)\n\u001b[1;32m   1502\u001b[0m \u001b[39m# Do not call functions when jit is used\u001b[39;00m\n\u001b[1;32m   1503\u001b[0m full_backward_hooks, non_full_backward_hooks \u001b[39m=\u001b[39m [], []\n",
      "\u001b[1;32m/Users/andreapellegrino/Library/Mobile Documents/com~apple~CloudDocs/Documents/iCloud Drive/Code/Deep Learning stuff/RNN_ChatGPT.ipynb Cella 13\u001b[0m in \u001b[0;36mRNN.forward\u001b[0;34m(self, input, hidden)\u001b[0m\n\u001b[1;32m     <a href='vscode-notebook-cell:/Users/andreapellegrino/Library/Mobile%20Documents/com~apple~CloudDocs/Documents/iCloud%20Drive/Code/Deep%20Learning%20stuff/RNN_ChatGPT.ipynb#X22sZmlsZQ%3D%3D?line=10'>11</a>\u001b[0m \u001b[39mdef\u001b[39;00m \u001b[39mforward\u001b[39m(\u001b[39mself\u001b[39m, \u001b[39minput\u001b[39m, hidden):\n\u001b[0;32m---> <a href='vscode-notebook-cell:/Users/andreapellegrino/Library/Mobile%20Documents/com~apple~CloudDocs/Documents/iCloud%20Drive/Code/Deep%20Learning%20stuff/RNN_ChatGPT.ipynb#X22sZmlsZQ%3D%3D?line=11'>12</a>\u001b[0m     combined \u001b[39m=\u001b[39m torch\u001b[39m.\u001b[39;49mcat((\u001b[39minput\u001b[39;49m, hidden), \u001b[39m1\u001b[39;49m)\n\u001b[1;32m     <a href='vscode-notebook-cell:/Users/andreapellegrino/Library/Mobile%20Documents/com~apple~CloudDocs/Documents/iCloud%20Drive/Code/Deep%20Learning%20stuff/RNN_ChatGPT.ipynb#X22sZmlsZQ%3D%3D?line=12'>13</a>\u001b[0m     hidden \u001b[39m=\u001b[39m \u001b[39mself\u001b[39m\u001b[39m.\u001b[39mi2h(combined)\n\u001b[1;32m     <a href='vscode-notebook-cell:/Users/andreapellegrino/Library/Mobile%20Documents/com~apple~CloudDocs/Documents/iCloud%20Drive/Code/Deep%20Learning%20stuff/RNN_ChatGPT.ipynb#X22sZmlsZQ%3D%3D?line=13'>14</a>\u001b[0m     output \u001b[39m=\u001b[39m \u001b[39mself\u001b[39m\u001b[39m.\u001b[39mi2o(combined)\n",
      "\u001b[0;31mIndexError\u001b[0m: Dimension out of range (expected to be in range of [-1, 0], but got 1)"
     ]
    }
   ],
   "source": [
    "# Define the number of epochs to train for and the sequence length\n",
    "n_epochs = 5000\n",
    "seq_length = 100\n",
    "\n",
    "# Train the RNN model for the specified number of epochs\n",
    "for epoch in range(1, n_epochs + 1):\n",
    "    # Generate a random sequence of characters from the input text\n",
    "    start_idx = np.random.randint(0, len(text) - seq_length)\n",
    "    end_idx = start_idx + seq_length + 1\n",
    "    input_seq = text[start_idx:end_idx]\n",
    "    target_seq = text[start_idx+1:end_idx+1]\n",
    "\n",
    "    input_tensor = char_tensor(input_seq)\n",
    "    target_tensor = char_tensor(target_seq)\n",
    "\n",
    "    output, loss = train(input_tensor, target_tensor)\n",
    "\n",
    "    if epoch % 100 == 0:\n",
    "        print('Epoch [{}/{}], Loss: {:.4f}'.format(epoch, n_epochs, loss))"
   ]
  },
  {
   "cell_type": "code",
   "execution_count": null,
   "metadata": {},
   "outputs": [],
   "source": [
    "# Generate text using the trained RNN model\n",
    "\n",
    "\n",
    "def generate_text(start_string, length):\n",
    "    with torch.no_grad():\n",
    "        input_tensor = char_tensor(start_string)\n",
    "        hidden = rnn.initHidden()\n",
    "\n",
    "        output_text = start_string\n",
    "\n",
    "        for i in range(length):\n",
    "            output, hidden = rnn(input_tensor[i], hidden)\n",
    "\n",
    "            # Sample the next character using the output probabilities\n",
    "            probs = torch.exp(output)\n",
    "            probs /= torch.sum(probs)\n",
    "            char_idx = torch.multinomial(probs, 1)[0]\n",
    "\n",
    "            # Add the predicted character to the output text\n",
    "            char = chars[char_idx]\n",
    "            output_text += char\n",
    "            input_tensor = char_tensor(char)\n",
    "\n",
    "        return output_text"
   ]
  },
  {
   "cell_type": "code",
   "execution_count": null,
   "metadata": {},
   "outputs": [],
   "source": [
    "# Generate some sample text using the trained RNN model\n",
    "start_string = 'shall i compare thee to a summer\\'s day?\\n'\n",
    "generated_text = generate_text(start_string, 1000)\n",
    "print(generated_text)"
   ]
  }
 ],
 "metadata": {
  "kernelspec": {
   "display_name": "Python 3",
   "language": "python",
   "name": "python3"
  },
  "language_info": {
   "codemirror_mode": {
    "name": "ipython",
    "version": 3
   },
   "file_extension": ".py",
   "mimetype": "text/x-python",
   "name": "python",
   "nbconvert_exporter": "python",
   "pygments_lexer": "ipython3",
   "version": "3.10.0"
  },
  "orig_nbformat": 4
 },
 "nbformat": 4,
 "nbformat_minor": 2
}
